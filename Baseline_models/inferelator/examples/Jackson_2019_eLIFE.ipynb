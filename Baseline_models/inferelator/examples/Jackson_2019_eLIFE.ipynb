{
 "cells": [
  {
   "cell_type": "code",
   "execution_count": null,
   "metadata": {},
   "outputs": [],
   "source": [
    "# This is the code used to generate the figures in: \n",
    "# Gene regulatory network reconstruction using single-cell RNA sequencing of barcoded genotypes in diverse environments\n",
    "# https://doi.org/10.1101/581678\n",
    "\n",
    "# The data files to run this script are located on Zenodo\n",
    "# https://zenodo.org/record/3354412"
   ]
  },
  {
   "cell_type": "code",
   "execution_count": null,
   "metadata": {},
   "outputs": [],
   "source": [
    "# Load modules\n",
    "from inferelator import inferelator_workflow, inferelator_verbose_level, MPControl, CrossValidationManager\n",
    "\n",
    "# Set verbosity level to \"Talky\"\n",
    "inferelator_verbose_level(1)"
   ]
  },
  {
   "cell_type": "code",
   "execution_count": null,
   "metadata": {},
   "outputs": [],
   "source": [
    "# Set the location of the input data and the desired location of the output files\n",
    "\n",
    "DATA_DIR = '../data/yeast'\n",
    "OUTPUT_DIR = '~/jackson_2019/'\n",
    "\n",
    "EXPRESSION_FILE_NAME = '103118_SS_Data.tsv.gz'\n",
    "GENE_METADATA_FILE_NAME = 'orfs.tsv'\n",
    "METADATA_COLUMNS = ['TF', 'strain', 'date', 'restriction', 'mechanism', 'time']\n",
    "\n",
    "YEASTRACT_PRIOR = \"YEASTRACT_20190713_BOTH.tsv\"\n",
    "\n",
    "TF_NAMES = \"tf_names_gold_standard.txt\"\n",
    "YEASTRACT_TF_NAMES = \"tf_names_yeastract.txt\""
   ]
  },
  {
   "cell_type": "code",
   "execution_count": null,
   "metadata": {},
   "outputs": [],
   "source": [
    "# Start Multiprocessing Engine\n",
    "\n",
    "n_cores_local = 10\n",
    "local_engine = True\n",
    "\n",
    "# Multiprocessing uses the pathos implementation of multiprocessing (with dill instead of cPickle)\n",
    "# This is suited for a single computer, but will likely be too slow for the example here\n",
    "\n",
    "if __name__ == '__main__' and local_engine:\n",
    "    MPControl.set_multiprocess_engine(\"multiprocessing\")\n",
    "    MPControl.client.processes = n_cores_local\n",
    "    MPControl.connect()"
   ]
  },
  {
   "cell_type": "code",
   "execution_count": null,
   "metadata": {},
   "outputs": [],
   "source": [
    "# Define the general run parameters used for all figures\n",
    "\n",
    "def set_up_workflow(wkf):\n",
    "    wkf.set_file_paths(input_dir=DATA_DIR,\n",
    "                       output_dir=OUTPUT_DIR,\n",
    "                       expression_matrix_file='103118_SS_Data.tsv.gz',\n",
    "                       gene_metadata_file='orfs.tsv',\n",
    "                       gold_standard_file='gold_standard.tsv',\n",
    "                       priors_file='gold_standard.tsv',\n",
    "                       tf_names_file=TF_NAMES)\n",
    "    wkf.set_file_properties(extract_metadata_from_expression_matrix=True,\n",
    "                            expression_matrix_metadata=METADATA_COLUMNS,\n",
    "                            expression_matrix_columns_are_genes=True,\n",
    "                            gene_list_index=\"SystematicName\")\n",
    "    wkf.set_crossvalidation_parameters(split_gold_standard_for_crossvalidation=True,\n",
    "                                       cv_split_ratio=0.5)\n",
    "    wkf.set_run_parameters(num_bootstraps=5)\n",
    "    wkf.set_count_minimum(0.05)\n",
    "    wkf.add_preprocess_step(\"log2\")\n",
    "    return wkf\n",
    "\n",
    "def set_up_fig5a(wkf):\n",
    "    cv_wrap = CrossValidationManager(wkf)\n",
    "    cv_wrap.add_gridsearch_parameter('random_seed', list(range(42, 52)))\n",
    "    return cv_wrap\n",
    "\n",
    "\n",
    "def set_up_fig5b(wkf):\n",
    "    cv_wrap = CrossValidationManager(wkf)\n",
    "    cv_wrap.add_gridsearch_parameter('random_seed', list(range(42, 52)))\n",
    "    cv_wrap.add_size_subsampling([0.01, 0.025, 0.05, 0.1, 0.25, 0.5, 0.75, 1], seed=86)\n",
    "    return cv_wrap\n",
    "\n",
    "def yeastract(wkf):\n",
    "    wkf.set_file_paths(tf_names_file=YEASTRACT_TF_NAMES, priors_file=YEASTRACT_PRIOR)"
   ]
  },
  {
   "cell_type": "code",
   "execution_count": null,
   "metadata": {
    "scrolled": true
   },
   "outputs": [],
   "source": [
    "# Figure 5A: Shuffled Priors\n",
    "worker = set_up_workflow(inferelator_workflow(regression=\"bbsr\", workflow=\"single-cell\"))\n",
    "worker.set_shuffle_parameters(shuffle_prior_axis=0)\n",
    "worker.append_to_path('output_dir', 'figure_5a_shuffled')\n",
    "\n",
    "set_up_fig5a(worker).run()"
   ]
  },
  {
   "cell_type": "code",
   "execution_count": null,
   "metadata": {},
   "outputs": [],
   "source": [
    "# Figure 5A: Random Data\n",
    "worker = set_up_workflow(inferelator_workflow(regression=\"bbsr\", workflow=\"single-cell\"))\n",
    "worker.set_file_paths(expression_matrix_file='110518_SS_NEG_Data.tsv.gz')\n",
    "worker.append_to_path('output_dir', 'figure_5a_neg_data')\n",
    "\n",
    "set_up_fig5a(worker).run()"
   ]
  },
  {
   "cell_type": "code",
   "execution_count": null,
   "metadata": {},
   "outputs": [],
   "source": [
    "# Figure 5A: No Imputation\n",
    "worker = set_up_workflow(inferelator_workflow(regression=\"bbsr\", workflow=\"single-cell\"))\n",
    "worker.append_to_path('output_dir', 'figure_5a_no_impute')\n",
    "\n",
    "set_up_fig5a(worker).run()"
   ]
  },
  {
   "cell_type": "code",
   "execution_count": null,
   "metadata": {},
   "outputs": [],
   "source": [
    "# Figure 5A: MAGIC\n",
    "worker = set_up_workflow(inferelator_workflow(regression=\"bbsr\", workflow=\"single-cell\"))\n",
    "worker.set_file_paths(expression_matrix_file='MAGIC_DATA.tsv.gz')\n",
    "worker.preprocessing_workflow = list()\n",
    "worker.append_to_path('output_dir', 'figure_5a_magic')\n",
    "\n",
    "set_up_fig5a(worker).run()"
   ]
  },
  {
   "cell_type": "code",
   "execution_count": null,
   "metadata": {},
   "outputs": [],
   "source": [
    "# Figure 5A: scImpute\n",
    "worker = set_up_workflow(inferelator_workflow(regression=\"bbsr\", workflow=\"single-cell\"))\n",
    "worker.set_file_paths(expression_matrix_file='SCIMPUTE_DATA.tsv.gz')\n",
    "worker.append_to_path('output_dir', 'figure_5a_scImpute')\n",
    "\n",
    "set_up_fig5a(worker).run()"
   ]
  },
  {
   "cell_type": "code",
   "execution_count": null,
   "metadata": {},
   "outputs": [],
   "source": [
    "# Figure 5A: VIPER\n",
    "worker = set_up_workflow(inferelator_workflow(regression=\"bbsr\", workflow=\"single-cell\"))\n",
    "worker.set_file_paths(expression_matrix_file='VIPER_DATA.tsv.gz')\n",
    "worker.append_to_path('output_dir', 'figure_5a_VIPER')\n",
    "\n",
    "set_up_fig5a(worker).run()"
   ]
  },
  {
   "cell_type": "code",
   "execution_count": null,
   "metadata": {},
   "outputs": [],
   "source": [
    "# Figure 5B: ATAC-Seq prior\n",
    "worker = set_up_workflow(inferelator_workflow(regression=\"bbsr\", workflow=\"single-cell\"))\n",
    "worker.set_file_paths(priors_file=\"yeast-motif-prior.tsv\", gold_standard_file=\"gold_standard.tsv\")\n",
    "worker.append_to_path('output_dir', 'figure_5b_atac')\n",
    "\n",
    "set_up_fig5b(worker).run()"
   ]
  },
  {
   "cell_type": "code",
   "execution_count": null,
   "metadata": {},
   "outputs": [],
   "source": [
    "# Figure 5B: Bussemaker\n",
    "worker = set_up_workflow(inferelator_workflow(regression=\"bbsr\", workflow=\"single-cell\"))\n",
    "worker.set_file_paths(priors_file=\"Bussemaker_pSAM_priors.tsv\", gold_standard_file=\"gold_standard.tsv\")\n",
    "worker.append_to_path('output_dir', 'figure_5b_atac')\n",
    "\n",
    "set_up_fig5b(worker).run()"
   ]
  },
  {
   "cell_type": "code",
   "execution_count": null,
   "metadata": {},
   "outputs": [],
   "source": [
    "# Figure 5B: No Priors\n",
    "worker = set_up_workflow(inferelator_workflow(regression=\"bbsr\", workflow=\"single-cell\"))\n",
    "worker.set_tfa(tfa_driver=False)\n",
    "worker.append_to_path('output_dir', 'figure_5b_no_priors')\n",
    "\n",
    "set_up_fig5b(worker).run()"
   ]
  },
  {
   "cell_type": "code",
   "execution_count": null,
   "metadata": {},
   "outputs": [],
   "source": [
    "# Figure 5B: Gold Standard\n",
    "worker = set_up_workflow(inferelator_workflow(regression=\"bbsr\", workflow=\"single-cell\"))\n",
    "worker.append_to_path('output_dir', 'figure_5b_gold_standard_cv')\n",
    "\n",
    "set_up_fig5b(worker).run()"
   ]
  },
  {
   "cell_type": "code",
   "execution_count": null,
   "metadata": {},
   "outputs": [],
   "source": [
    "# Figure 5B: YEASTRACT\n",
    "worker = set_up_workflow(inferelator_workflow(regression=\"bbsr\", workflow=\"single-cell\"))\n",
    "yeastract(worker)\n",
    "worker.append_to_path('output_dir', 'figure_5b_yeastract')\n",
    "\n",
    "set_up_fig5b(worker).run()"
   ]
  },
  {
   "cell_type": "code",
   "execution_count": null,
   "metadata": {},
   "outputs": [],
   "source": [
    "# Figure 5C: Condition Specific\n",
    "\n",
    "worker = set_up_workflow(inferelator_workflow(regression=\"bbsr\", workflow=\"single-cell\"))\n",
    "worker.append_to_path('output_dir', 'figure_5c_conditions')\n",
    "\n",
    "cv_wrap = CrossValidationManager(worker)\n",
    "cv_wrap.add_gridsearch_parameter('random_seed', list(range(42, 52)))\n",
    "cv_wrap.add_grouping_dropin(\"Condition\", group_size=500)\n",
    "\n",
    "cv_wrap.run()\n",
    "del cv_wrap"
   ]
  },
  {
   "cell_type": "code",
   "execution_count": null,
   "metadata": {},
   "outputs": [],
   "source": [
    "# Figure 5D: Single Task Learning\n",
    "\n",
    "worker = set_up_workflow(workflow.inferelator_workflow(regression=\"bbsr\", workflow=\"single-cell\"))\n",
    "yeastract(worker)\n",
    "worker.append_to_path('output_dir', 'figure_5d_stl')\n",
    "\n",
    "cv_wrap = crossvalidation_workflow.CrossValidationManager(worker)\n",
    "cv_wrap.add_gridsearch_parameter('random_seed', list(range(52, 62)))\n",
    "cv_wrap.run()\n",
    "\n",
    "del cv_wrap"
   ]
  },
  {
   "cell_type": "code",
   "execution_count": null,
   "metadata": {},
   "outputs": [],
   "source": [
    "# Figure 5D: BBSR By Task Learning\n",
    "\n",
    "worker = set_up_workflow(inferelator_workflow(regression=\"bbsr-by-task\", workflow=\"multitask\"))\n",
    "yeastract(worker)\n",
    "worker.append_to_path('output_dir', 'figure_5d_mtl_bbsr')\n",
    "\n",
    "cv_wrap = CrossValidationManager(worker)\n",
    "cv_wrap.add_gridsearch_parameter('random_seed', list(range(52, 62)))\n",
    "cv_wrap.run()\n",
    "\n",
    "del cv_wrap"
   ]
  },
  {
   "cell_type": "code",
   "execution_count": null,
   "metadata": {},
   "outputs": [],
   "source": [
    "# Figure 5D: Multi Task Learning\n",
    "\n",
    "worker = set_up_workflow(inferelator_workflow(regression=\"amusr\", workflow=\"multitask\"))\n",
    "yeastract(worker)\n",
    "worker.append_to_path('output_dir', 'figure_5d_mtl_amusr')\n",
    "\n",
    "cv_wrap = CrossValidationManager(worker)\n",
    "cv_wrap.add_gridsearch_parameter('random_seed', list(range(52, 62)))\n",
    "cv_wrap.run()\n",
    "\n",
    "del cv_wrap"
   ]
  },
  {
   "cell_type": "code",
   "execution_count": null,
   "metadata": {},
   "outputs": [],
   "source": [
    "# Figure 6: Final Network\n",
    "\n",
    "worker = set_up_workflow(inferelator_workflow(regression=\"amusr\", workflow=\"multitask\"))\n",
    "yeastract(worker)\n",
    "worker.set_file_paths(gold_standard_file=\"YEASTRACT_Both_20181118.tsv\")\n",
    "worker.set_crossvalidation_parameters(split_gold_standard_for_crossvalidation=False, cv_split_ratio=None)\n",
    "worker.set_run_parameters(num_bootstraps=50, random_seed=100)\n",
    "worker.append_to_path('output_dir', 'figure_6_final')\n",
    "\n",
    "final_network = worker.run()\n",
    "del worker"
   ]
  }
 ],
 "metadata": {
  "kernelspec": {
   "display_name": "Python 3",
   "language": "python",
   "name": "python3"
  },
  "language_info": {
   "codemirror_mode": {
    "name": "ipython",
    "version": 3
   },
   "file_extension": ".py",
   "mimetype": "text/x-python",
   "name": "python",
   "nbconvert_exporter": "python",
   "pygments_lexer": "ipython3",
   "version": "3.7.6"
  }
 },
 "nbformat": 4,
 "nbformat_minor": 2
}
